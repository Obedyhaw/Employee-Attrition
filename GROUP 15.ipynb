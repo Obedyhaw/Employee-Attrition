{
 "cells": [
  {
   "cell_type": "markdown",
   "id": "c01d065e",
   "metadata": {},
   "source": [
    "<center><b><h3>GROUP 15</h3></b></center><br>\n",
    "SB/FIN/21/0149 - Asante Obed<br>\n",
    "SB/FIN/21/0035 - Antwi Andrews <br>\n",
    "SB/FIN/21/0005 - Asaami Isaac <br>\n",
    "SB/FIN/21/0002 - Justice Arthur<br>\n",
    "SB/FIN/21/0117 - Patience Hammond Appah<br>\n",
    "SB/FIN/21/0052 - Adjei Jessica Asare<br>\n",
    "SB/FIN/21/0203 - Ansah Stanley<br>\n",
    "SB/FIN/21/0049 - Gabriel Apomah <br>\n",
    "SB/FIN/21/0012 - Asante Nicholas Kwaku<br>\n",
    "SB/FIN/21/0056 - Edward Antwi"
   ]
  },
  {
   "cell_type": "markdown",
   "id": "36aba355",
   "metadata": {},
   "source": [
    "# 1."
   ]
  },
  {
   "cell_type": "code",
   "execution_count": 96,
   "id": "1235e0ac",
   "metadata": {},
   "outputs": [],
   "source": [
    "#importing libraries\n",
    "import pandas as pd\n",
    "import matplotlib.pyplot as plt\n",
    "import seaborn as sns\n",
    "from collections import Counter"
   ]
  },
  {
   "cell_type": "code",
   "execution_count": 97,
   "id": "e636c938",
   "metadata": {},
   "outputs": [],
   "source": [
    "#loading the data\n",
    "df=pd.read_csv('Employee Attrition compiled.csv ')"
   ]
  },
  {
   "cell_type": "code",
   "execution_count": 98,
   "id": "74168137",
   "metadata": {},
   "outputs": [
    {
     "data": {
      "text/html": [
       "<div>\n",
       "<style scoped>\n",
       "    .dataframe tbody tr th:only-of-type {\n",
       "        vertical-align: middle;\n",
       "    }\n",
       "\n",
       "    .dataframe tbody tr th {\n",
       "        vertical-align: top;\n",
       "    }\n",
       "\n",
       "    .dataframe thead th {\n",
       "        text-align: right;\n",
       "    }\n",
       "</style>\n",
       "<table border=\"1\" class=\"dataframe\">\n",
       "  <thead>\n",
       "    <tr style=\"text-align: right;\">\n",
       "      <th></th>\n",
       "      <th>Emp ID</th>\n",
       "      <th>satisfaction_level</th>\n",
       "      <th>last_evaluation</th>\n",
       "      <th>number_project</th>\n",
       "      <th>average_montly_hours</th>\n",
       "      <th>time_spend_company</th>\n",
       "      <th>Work_accident</th>\n",
       "      <th>promotion_last_5years</th>\n",
       "      <th>dept</th>\n",
       "      <th>salary</th>\n",
       "    </tr>\n",
       "  </thead>\n",
       "  <tbody>\n",
       "    <tr>\n",
       "      <th>0</th>\n",
       "      <td>1.0</td>\n",
       "      <td>0.38</td>\n",
       "      <td>0.53</td>\n",
       "      <td>2.0</td>\n",
       "      <td>157.0</td>\n",
       "      <td>3.0</td>\n",
       "      <td>0.0</td>\n",
       "      <td>0.0</td>\n",
       "      <td>sales</td>\n",
       "      <td>low</td>\n",
       "    </tr>\n",
       "    <tr>\n",
       "      <th>1</th>\n",
       "      <td>2.0</td>\n",
       "      <td>0.80</td>\n",
       "      <td>0.86</td>\n",
       "      <td>5.0</td>\n",
       "      <td>262.0</td>\n",
       "      <td>6.0</td>\n",
       "      <td>0.0</td>\n",
       "      <td>0.0</td>\n",
       "      <td>sales</td>\n",
       "      <td>medium</td>\n",
       "    </tr>\n",
       "    <tr>\n",
       "      <th>2</th>\n",
       "      <td>3.0</td>\n",
       "      <td>0.11</td>\n",
       "      <td>0.88</td>\n",
       "      <td>7.0</td>\n",
       "      <td>272.0</td>\n",
       "      <td>4.0</td>\n",
       "      <td>0.0</td>\n",
       "      <td>0.0</td>\n",
       "      <td>sales</td>\n",
       "      <td>medium</td>\n",
       "    </tr>\n",
       "    <tr>\n",
       "      <th>3</th>\n",
       "      <td>4.0</td>\n",
       "      <td>0.72</td>\n",
       "      <td>0.87</td>\n",
       "      <td>5.0</td>\n",
       "      <td>223.0</td>\n",
       "      <td>5.0</td>\n",
       "      <td>0.0</td>\n",
       "      <td>0.0</td>\n",
       "      <td>sales</td>\n",
       "      <td>low</td>\n",
       "    </tr>\n",
       "    <tr>\n",
       "      <th>4</th>\n",
       "      <td>5.0</td>\n",
       "      <td>0.37</td>\n",
       "      <td>0.52</td>\n",
       "      <td>2.0</td>\n",
       "      <td>159.0</td>\n",
       "      <td>3.0</td>\n",
       "      <td>0.0</td>\n",
       "      <td>0.0</td>\n",
       "      <td>sales</td>\n",
       "      <td>low</td>\n",
       "    </tr>\n",
       "    <tr>\n",
       "      <th>...</th>\n",
       "      <td>...</td>\n",
       "      <td>...</td>\n",
       "      <td>...</td>\n",
       "      <td>...</td>\n",
       "      <td>...</td>\n",
       "      <td>...</td>\n",
       "      <td>...</td>\n",
       "      <td>...</td>\n",
       "      <td>...</td>\n",
       "      <td>...</td>\n",
       "    </tr>\n",
       "    <tr>\n",
       "      <th>15782</th>\n",
       "      <td>14995.0</td>\n",
       "      <td>0.40</td>\n",
       "      <td>0.57</td>\n",
       "      <td>2.0</td>\n",
       "      <td>151.0</td>\n",
       "      <td>3.0</td>\n",
       "      <td>0.0</td>\n",
       "      <td>0.0</td>\n",
       "      <td>support</td>\n",
       "      <td>low</td>\n",
       "    </tr>\n",
       "    <tr>\n",
       "      <th>15783</th>\n",
       "      <td>14996.0</td>\n",
       "      <td>0.37</td>\n",
       "      <td>0.48</td>\n",
       "      <td>2.0</td>\n",
       "      <td>160.0</td>\n",
       "      <td>3.0</td>\n",
       "      <td>0.0</td>\n",
       "      <td>0.0</td>\n",
       "      <td>support</td>\n",
       "      <td>low</td>\n",
       "    </tr>\n",
       "    <tr>\n",
       "      <th>15784</th>\n",
       "      <td>14997.0</td>\n",
       "      <td>0.37</td>\n",
       "      <td>0.53</td>\n",
       "      <td>2.0</td>\n",
       "      <td>143.0</td>\n",
       "      <td>3.0</td>\n",
       "      <td>0.0</td>\n",
       "      <td>0.0</td>\n",
       "      <td>support</td>\n",
       "      <td>low</td>\n",
       "    </tr>\n",
       "    <tr>\n",
       "      <th>15785</th>\n",
       "      <td>14998.0</td>\n",
       "      <td>0.11</td>\n",
       "      <td>0.96</td>\n",
       "      <td>6.0</td>\n",
       "      <td>280.0</td>\n",
       "      <td>4.0</td>\n",
       "      <td>0.0</td>\n",
       "      <td>0.0</td>\n",
       "      <td>support</td>\n",
       "      <td>low</td>\n",
       "    </tr>\n",
       "    <tr>\n",
       "      <th>15786</th>\n",
       "      <td>14999.0</td>\n",
       "      <td>0.37</td>\n",
       "      <td>0.52</td>\n",
       "      <td>2.0</td>\n",
       "      <td>158.0</td>\n",
       "      <td>3.0</td>\n",
       "      <td>0.0</td>\n",
       "      <td>0.0</td>\n",
       "      <td>support</td>\n",
       "      <td>low</td>\n",
       "    </tr>\n",
       "  </tbody>\n",
       "</table>\n",
       "<p>15787 rows × 10 columns</p>\n",
       "</div>"
      ],
      "text/plain": [
       "        Emp ID  satisfaction_level  last_evaluation  number_project  \\\n",
       "0          1.0                0.38             0.53             2.0   \n",
       "1          2.0                0.80             0.86             5.0   \n",
       "2          3.0                0.11             0.88             7.0   \n",
       "3          4.0                0.72             0.87             5.0   \n",
       "4          5.0                0.37             0.52             2.0   \n",
       "...        ...                 ...              ...             ...   \n",
       "15782  14995.0                0.40             0.57             2.0   \n",
       "15783  14996.0                0.37             0.48             2.0   \n",
       "15784  14997.0                0.37             0.53             2.0   \n",
       "15785  14998.0                0.11             0.96             6.0   \n",
       "15786  14999.0                0.37             0.52             2.0   \n",
       "\n",
       "       average_montly_hours  time_spend_company  Work_accident  \\\n",
       "0                     157.0                 3.0            0.0   \n",
       "1                     262.0                 6.0            0.0   \n",
       "2                     272.0                 4.0            0.0   \n",
       "3                     223.0                 5.0            0.0   \n",
       "4                     159.0                 3.0            0.0   \n",
       "...                     ...                 ...            ...   \n",
       "15782                 151.0                 3.0            0.0   \n",
       "15783                 160.0                 3.0            0.0   \n",
       "15784                 143.0                 3.0            0.0   \n",
       "15785                 280.0                 4.0            0.0   \n",
       "15786                 158.0                 3.0            0.0   \n",
       "\n",
       "       promotion_last_5years     dept  salary  \n",
       "0                        0.0    sales     low  \n",
       "1                        0.0    sales  medium  \n",
       "2                        0.0    sales  medium  \n",
       "3                        0.0    sales     low  \n",
       "4                        0.0    sales     low  \n",
       "...                      ...      ...     ...  \n",
       "15782                    0.0  support     low  \n",
       "15783                    0.0  support     low  \n",
       "15784                    0.0  support     low  \n",
       "15785                    0.0  support     low  \n",
       "15786                    0.0  support     low  \n",
       "\n",
       "[15787 rows x 10 columns]"
      ]
     },
     "execution_count": 98,
     "metadata": {},
     "output_type": "execute_result"
    }
   ],
   "source": [
    "#viewing the data\n",
    "df"
   ]
  },
  {
   "cell_type": "code",
   "execution_count": 99,
   "id": "8729de20",
   "metadata": {},
   "outputs": [
    {
     "data": {
      "text/html": [
       "<div>\n",
       "<style scoped>\n",
       "    .dataframe tbody tr th:only-of-type {\n",
       "        vertical-align: middle;\n",
       "    }\n",
       "\n",
       "    .dataframe tbody tr th {\n",
       "        vertical-align: top;\n",
       "    }\n",
       "\n",
       "    .dataframe thead th {\n",
       "        text-align: right;\n",
       "    }\n",
       "</style>\n",
       "<table border=\"1\" class=\"dataframe\">\n",
       "  <thead>\n",
       "    <tr style=\"text-align: right;\">\n",
       "      <th></th>\n",
       "      <th>Emp ID</th>\n",
       "      <th>satisfaction_level</th>\n",
       "      <th>last_evaluation</th>\n",
       "      <th>number_project</th>\n",
       "      <th>average_montly_hours</th>\n",
       "      <th>time_spend_company</th>\n",
       "      <th>Work_accident</th>\n",
       "      <th>promotion_last_5years</th>\n",
       "    </tr>\n",
       "  </thead>\n",
       "  <tbody>\n",
       "    <tr>\n",
       "      <th>count</th>\n",
       "      <td>14999.000000</td>\n",
       "      <td>14999.000000</td>\n",
       "      <td>14999.000000</td>\n",
       "      <td>14999.000000</td>\n",
       "      <td>14999.000000</td>\n",
       "      <td>14999.000000</td>\n",
       "      <td>14999.000000</td>\n",
       "      <td>14999.000000</td>\n",
       "    </tr>\n",
       "    <tr>\n",
       "      <th>mean</th>\n",
       "      <td>7500.000000</td>\n",
       "      <td>0.612834</td>\n",
       "      <td>0.716102</td>\n",
       "      <td>3.803054</td>\n",
       "      <td>201.050337</td>\n",
       "      <td>3.498233</td>\n",
       "      <td>0.144610</td>\n",
       "      <td>0.021268</td>\n",
       "    </tr>\n",
       "    <tr>\n",
       "      <th>std</th>\n",
       "      <td>4329.982679</td>\n",
       "      <td>0.248631</td>\n",
       "      <td>0.171169</td>\n",
       "      <td>1.232592</td>\n",
       "      <td>49.943099</td>\n",
       "      <td>1.460136</td>\n",
       "      <td>0.351719</td>\n",
       "      <td>0.144281</td>\n",
       "    </tr>\n",
       "    <tr>\n",
       "      <th>min</th>\n",
       "      <td>1.000000</td>\n",
       "      <td>0.090000</td>\n",
       "      <td>0.360000</td>\n",
       "      <td>2.000000</td>\n",
       "      <td>96.000000</td>\n",
       "      <td>2.000000</td>\n",
       "      <td>0.000000</td>\n",
       "      <td>0.000000</td>\n",
       "    </tr>\n",
       "    <tr>\n",
       "      <th>25%</th>\n",
       "      <td>3750.500000</td>\n",
       "      <td>0.440000</td>\n",
       "      <td>0.560000</td>\n",
       "      <td>3.000000</td>\n",
       "      <td>156.000000</td>\n",
       "      <td>3.000000</td>\n",
       "      <td>0.000000</td>\n",
       "      <td>0.000000</td>\n",
       "    </tr>\n",
       "    <tr>\n",
       "      <th>50%</th>\n",
       "      <td>7500.000000</td>\n",
       "      <td>0.640000</td>\n",
       "      <td>0.720000</td>\n",
       "      <td>4.000000</td>\n",
       "      <td>200.000000</td>\n",
       "      <td>3.000000</td>\n",
       "      <td>0.000000</td>\n",
       "      <td>0.000000</td>\n",
       "    </tr>\n",
       "    <tr>\n",
       "      <th>75%</th>\n",
       "      <td>11249.500000</td>\n",
       "      <td>0.820000</td>\n",
       "      <td>0.870000</td>\n",
       "      <td>5.000000</td>\n",
       "      <td>245.000000</td>\n",
       "      <td>4.000000</td>\n",
       "      <td>0.000000</td>\n",
       "      <td>0.000000</td>\n",
       "    </tr>\n",
       "    <tr>\n",
       "      <th>max</th>\n",
       "      <td>14999.000000</td>\n",
       "      <td>1.000000</td>\n",
       "      <td>1.000000</td>\n",
       "      <td>7.000000</td>\n",
       "      <td>310.000000</td>\n",
       "      <td>10.000000</td>\n",
       "      <td>1.000000</td>\n",
       "      <td>1.000000</td>\n",
       "    </tr>\n",
       "  </tbody>\n",
       "</table>\n",
       "</div>"
      ],
      "text/plain": [
       "             Emp ID  satisfaction_level  last_evaluation  number_project  \\\n",
       "count  14999.000000        14999.000000     14999.000000    14999.000000   \n",
       "mean    7500.000000            0.612834         0.716102        3.803054   \n",
       "std     4329.982679            0.248631         0.171169        1.232592   \n",
       "min        1.000000            0.090000         0.360000        2.000000   \n",
       "25%     3750.500000            0.440000         0.560000        3.000000   \n",
       "50%     7500.000000            0.640000         0.720000        4.000000   \n",
       "75%    11249.500000            0.820000         0.870000        5.000000   \n",
       "max    14999.000000            1.000000         1.000000        7.000000   \n",
       "\n",
       "       average_montly_hours  time_spend_company  Work_accident  \\\n",
       "count          14999.000000        14999.000000   14999.000000   \n",
       "mean             201.050337            3.498233       0.144610   \n",
       "std               49.943099            1.460136       0.351719   \n",
       "min               96.000000            2.000000       0.000000   \n",
       "25%              156.000000            3.000000       0.000000   \n",
       "50%              200.000000            3.000000       0.000000   \n",
       "75%              245.000000            4.000000       0.000000   \n",
       "max              310.000000           10.000000       1.000000   \n",
       "\n",
       "       promotion_last_5years  \n",
       "count           14999.000000  \n",
       "mean                0.021268  \n",
       "std                 0.144281  \n",
       "min                 0.000000  \n",
       "25%                 0.000000  \n",
       "50%                 0.000000  \n",
       "75%                 0.000000  \n",
       "max                 1.000000  "
      ]
     },
     "execution_count": 99,
     "metadata": {},
     "output_type": "execute_result"
    }
   ],
   "source": [
    "#display the statistical summaries of the datasets\n",
    "df.describe()"
   ]
  },
  {
   "cell_type": "code",
   "execution_count": 100,
   "id": "439c7b70",
   "metadata": {},
   "outputs": [
    {
     "data": {
      "text/plain": [
       "Emp ID                   788\n",
       "satisfaction_level       788\n",
       "last_evaluation          788\n",
       "number_project           788\n",
       "average_montly_hours     788\n",
       "time_spend_company       788\n",
       "Work_accident            788\n",
       "promotion_last_5years    788\n",
       "dept                     788\n",
       "salary                   788\n",
       "dtype: int64"
      ]
     },
     "execution_count": 100,
     "metadata": {},
     "output_type": "execute_result"
    }
   ],
   "source": [
    "#Checking for missing values in the datasets\n",
    "df.isnull().sum()"
   ]
  },
  {
   "cell_type": "code",
   "execution_count": 101,
   "id": "7b11a68d",
   "metadata": {},
   "outputs": [],
   "source": [
    "#Removing any missing values in the dataset\n",
    "df=df.dropna()"
   ]
  },
  {
   "cell_type": "code",
   "execution_count": 102,
   "id": "99d35d54",
   "metadata": {},
   "outputs": [
    {
     "data": {
      "text/plain": [
       "Emp ID                   0\n",
       "satisfaction_level       0\n",
       "last_evaluation          0\n",
       "number_project           0\n",
       "average_montly_hours     0\n",
       "time_spend_company       0\n",
       "Work_accident            0\n",
       "promotion_last_5years    0\n",
       "dept                     0\n",
       "salary                   0\n",
       "dtype: int64"
      ]
     },
     "execution_count": 102,
     "metadata": {},
     "output_type": "execute_result"
    }
   ],
   "source": [
    "#Confirming whether the missing values are still avaiable\n",
    "df.isnull().sum()"
   ]
  },
  {
   "cell_type": "code",
   "execution_count": 103,
   "id": "90421368",
   "metadata": {},
   "outputs": [
    {
     "data": {
      "text/plain": [
       "Emp ID                   float64\n",
       "satisfaction_level       float64\n",
       "last_evaluation          float64\n",
       "number_project           float64\n",
       "average_montly_hours     float64\n",
       "time_spend_company       float64\n",
       "Work_accident            float64\n",
       "promotion_last_5years    float64\n",
       "dept                      object\n",
       "salary                    object\n",
       "dtype: object"
      ]
     },
     "execution_count": 103,
     "metadata": {},
     "output_type": "execute_result"
    }
   ],
   "source": [
    "#Checking for data types\n",
    "df.dtypes"
   ]
  },
  {
   "cell_type": "code",
   "execution_count": 104,
   "id": "cfc87d2e",
   "metadata": {},
   "outputs": [
    {
     "data": {
      "text/html": [
       "<div>\n",
       "<style scoped>\n",
       "    .dataframe tbody tr th:only-of-type {\n",
       "        vertical-align: middle;\n",
       "    }\n",
       "\n",
       "    .dataframe tbody tr th {\n",
       "        vertical-align: top;\n",
       "    }\n",
       "\n",
       "    .dataframe thead th {\n",
       "        text-align: right;\n",
       "    }\n",
       "</style>\n",
       "<table border=\"1\" class=\"dataframe\">\n",
       "  <thead>\n",
       "    <tr style=\"text-align: right;\">\n",
       "      <th></th>\n",
       "      <th>Emp ID</th>\n",
       "      <th>satisfaction_level</th>\n",
       "      <th>last_evaluation</th>\n",
       "      <th>number_project</th>\n",
       "      <th>average_montly_hours</th>\n",
       "      <th>time_spend_company</th>\n",
       "      <th>Work_accident</th>\n",
       "      <th>promotion_last_5years</th>\n",
       "      <th>dept</th>\n",
       "      <th>salary</th>\n",
       "    </tr>\n",
       "  </thead>\n",
       "  <tbody>\n",
       "    <tr>\n",
       "      <th>0</th>\n",
       "      <td>1.0</td>\n",
       "      <td>0.38</td>\n",
       "      <td>0.53</td>\n",
       "      <td>2.0</td>\n",
       "      <td>157.0</td>\n",
       "      <td>3.0</td>\n",
       "      <td>0.0</td>\n",
       "      <td>0.0</td>\n",
       "      <td>sales</td>\n",
       "      <td>low</td>\n",
       "    </tr>\n",
       "    <tr>\n",
       "      <th>1</th>\n",
       "      <td>2.0</td>\n",
       "      <td>0.80</td>\n",
       "      <td>0.86</td>\n",
       "      <td>5.0</td>\n",
       "      <td>262.0</td>\n",
       "      <td>6.0</td>\n",
       "      <td>0.0</td>\n",
       "      <td>0.0</td>\n",
       "      <td>sales</td>\n",
       "      <td>medium</td>\n",
       "    </tr>\n",
       "    <tr>\n",
       "      <th>2</th>\n",
       "      <td>3.0</td>\n",
       "      <td>0.11</td>\n",
       "      <td>0.88</td>\n",
       "      <td>7.0</td>\n",
       "      <td>272.0</td>\n",
       "      <td>4.0</td>\n",
       "      <td>0.0</td>\n",
       "      <td>0.0</td>\n",
       "      <td>sales</td>\n",
       "      <td>medium</td>\n",
       "    </tr>\n",
       "    <tr>\n",
       "      <th>3</th>\n",
       "      <td>4.0</td>\n",
       "      <td>0.72</td>\n",
       "      <td>0.87</td>\n",
       "      <td>5.0</td>\n",
       "      <td>223.0</td>\n",
       "      <td>5.0</td>\n",
       "      <td>0.0</td>\n",
       "      <td>0.0</td>\n",
       "      <td>sales</td>\n",
       "      <td>low</td>\n",
       "    </tr>\n",
       "    <tr>\n",
       "      <th>4</th>\n",
       "      <td>5.0</td>\n",
       "      <td>0.37</td>\n",
       "      <td>0.52</td>\n",
       "      <td>2.0</td>\n",
       "      <td>159.0</td>\n",
       "      <td>3.0</td>\n",
       "      <td>0.0</td>\n",
       "      <td>0.0</td>\n",
       "      <td>sales</td>\n",
       "      <td>low</td>\n",
       "    </tr>\n",
       "  </tbody>\n",
       "</table>\n",
       "</div>"
      ],
      "text/plain": [
       "   Emp ID  satisfaction_level  last_evaluation  number_project  \\\n",
       "0     1.0                0.38             0.53             2.0   \n",
       "1     2.0                0.80             0.86             5.0   \n",
       "2     3.0                0.11             0.88             7.0   \n",
       "3     4.0                0.72             0.87             5.0   \n",
       "4     5.0                0.37             0.52             2.0   \n",
       "\n",
       "   average_montly_hours  time_spend_company  Work_accident  \\\n",
       "0                 157.0                 3.0            0.0   \n",
       "1                 262.0                 6.0            0.0   \n",
       "2                 272.0                 4.0            0.0   \n",
       "3                 223.0                 5.0            0.0   \n",
       "4                 159.0                 3.0            0.0   \n",
       "\n",
       "   promotion_last_5years   dept  salary  \n",
       "0                    0.0  sales     low  \n",
       "1                    0.0  sales  medium  \n",
       "2                    0.0  sales  medium  \n",
       "3                    0.0  sales     low  \n",
       "4                    0.0  sales     low  "
      ]
     },
     "execution_count": 104,
     "metadata": {},
     "output_type": "execute_result"
    }
   ],
   "source": [
    "#Reading the first 5 rows\n",
    "df.head(5)"
   ]
  },
  {
   "cell_type": "code",
   "execution_count": 105,
   "id": "1a3423a9",
   "metadata": {},
   "outputs": [
    {
     "name": "stderr",
     "output_type": "stream",
     "text": [
      "C:\\Users\\USER\\AppData\\Local\\Temp/ipykernel_8624/1205377572.py:2: SettingWithCopyWarning: \n",
      "A value is trying to be set on a copy of a slice from a DataFrame.\n",
      "Try using .loc[row_indexer,col_indexer] = value instead\n",
      "\n",
      "See the caveats in the documentation: https://pandas.pydata.org/pandas-docs/stable/user_guide/indexing.html#returning-a-view-versus-a-copy\n",
      "  df['Emp ID']=df['Emp ID'].astype('int')\n",
      "C:\\Users\\USER\\AppData\\Local\\Temp/ipykernel_8624/1205377572.py:3: SettingWithCopyWarning: \n",
      "A value is trying to be set on a copy of a slice from a DataFrame.\n",
      "Try using .loc[row_indexer,col_indexer] = value instead\n",
      "\n",
      "See the caveats in the documentation: https://pandas.pydata.org/pandas-docs/stable/user_guide/indexing.html#returning-a-view-versus-a-copy\n",
      "  df['number_project']=df['number_project'].astype('int')\n",
      "C:\\Users\\USER\\AppData\\Local\\Temp/ipykernel_8624/1205377572.py:4: SettingWithCopyWarning: \n",
      "A value is trying to be set on a copy of a slice from a DataFrame.\n",
      "Try using .loc[row_indexer,col_indexer] = value instead\n",
      "\n",
      "See the caveats in the documentation: https://pandas.pydata.org/pandas-docs/stable/user_guide/indexing.html#returning-a-view-versus-a-copy\n",
      "  df['promotion_last_5years']=df['promotion_last_5years'].astype('int')\n",
      "C:\\Users\\USER\\AppData\\Local\\Temp/ipykernel_8624/1205377572.py:5: SettingWithCopyWarning: \n",
      "A value is trying to be set on a copy of a slice from a DataFrame.\n",
      "Try using .loc[row_indexer,col_indexer] = value instead\n",
      "\n",
      "See the caveats in the documentation: https://pandas.pydata.org/pandas-docs/stable/user_guide/indexing.html#returning-a-view-versus-a-copy\n",
      "  df['Work_accident']=df['Work_accident'].astype('int')\n"
     ]
    }
   ],
   "source": [
    "#Ensuring the right data types\n",
    "df['Emp ID']=df['Emp ID'].astype('int')\n",
    "df['number_project']=df['number_project'].astype('int')\n",
    "df['promotion_last_5years']=df['promotion_last_5years'].astype('int')\n",
    "df['Work_accident']=df['Work_accident'].astype('int')"
   ]
  },
  {
   "cell_type": "code",
   "execution_count": 106,
   "id": "393e14fd",
   "metadata": {},
   "outputs": [
    {
     "data": {
      "text/plain": [
       "Emp ID                     int32\n",
       "satisfaction_level       float64\n",
       "last_evaluation          float64\n",
       "number_project             int32\n",
       "average_montly_hours     float64\n",
       "time_spend_company       float64\n",
       "Work_accident              int32\n",
       "promotion_last_5years      int32\n",
       "dept                      object\n",
       "salary                    object\n",
       "dtype: object"
      ]
     },
     "execution_count": 106,
     "metadata": {},
     "output_type": "execute_result"
    }
   ],
   "source": [
    "df.dtypes"
   ]
  },
  {
   "cell_type": "code",
   "execution_count": 107,
   "id": "97d8c5be",
   "metadata": {},
   "outputs": [
    {
     "data": {
      "text/html": [
       "<div>\n",
       "<style scoped>\n",
       "    .dataframe tbody tr th:only-of-type {\n",
       "        vertical-align: middle;\n",
       "    }\n",
       "\n",
       "    .dataframe tbody tr th {\n",
       "        vertical-align: top;\n",
       "    }\n",
       "\n",
       "    .dataframe thead th {\n",
       "        text-align: right;\n",
       "    }\n",
       "</style>\n",
       "<table border=\"1\" class=\"dataframe\">\n",
       "  <thead>\n",
       "    <tr style=\"text-align: right;\">\n",
       "      <th></th>\n",
       "      <th>Emp ID</th>\n",
       "      <th>satisfaction_level</th>\n",
       "      <th>last_evaluation</th>\n",
       "      <th>number_project</th>\n",
       "      <th>average_montly_hours</th>\n",
       "      <th>time_spend_company</th>\n",
       "      <th>Work_accident</th>\n",
       "      <th>promotion_last_5years</th>\n",
       "      <th>dept</th>\n",
       "      <th>salary</th>\n",
       "    </tr>\n",
       "  </thead>\n",
       "  <tbody>\n",
       "    <tr>\n",
       "      <th>0</th>\n",
       "      <td>1</td>\n",
       "      <td>0.38</td>\n",
       "      <td>0.53</td>\n",
       "      <td>2</td>\n",
       "      <td>157.0</td>\n",
       "      <td>3.0</td>\n",
       "      <td>0</td>\n",
       "      <td>0</td>\n",
       "      <td>sales</td>\n",
       "      <td>low</td>\n",
       "    </tr>\n",
       "    <tr>\n",
       "      <th>1</th>\n",
       "      <td>2</td>\n",
       "      <td>0.80</td>\n",
       "      <td>0.86</td>\n",
       "      <td>5</td>\n",
       "      <td>262.0</td>\n",
       "      <td>6.0</td>\n",
       "      <td>0</td>\n",
       "      <td>0</td>\n",
       "      <td>sales</td>\n",
       "      <td>medium</td>\n",
       "    </tr>\n",
       "    <tr>\n",
       "      <th>2</th>\n",
       "      <td>3</td>\n",
       "      <td>0.11</td>\n",
       "      <td>0.88</td>\n",
       "      <td>7</td>\n",
       "      <td>272.0</td>\n",
       "      <td>4.0</td>\n",
       "      <td>0</td>\n",
       "      <td>0</td>\n",
       "      <td>sales</td>\n",
       "      <td>medium</td>\n",
       "    </tr>\n",
       "    <tr>\n",
       "      <th>3</th>\n",
       "      <td>4</td>\n",
       "      <td>0.72</td>\n",
       "      <td>0.87</td>\n",
       "      <td>5</td>\n",
       "      <td>223.0</td>\n",
       "      <td>5.0</td>\n",
       "      <td>0</td>\n",
       "      <td>0</td>\n",
       "      <td>sales</td>\n",
       "      <td>low</td>\n",
       "    </tr>\n",
       "    <tr>\n",
       "      <th>4</th>\n",
       "      <td>5</td>\n",
       "      <td>0.37</td>\n",
       "      <td>0.52</td>\n",
       "      <td>2</td>\n",
       "      <td>159.0</td>\n",
       "      <td>3.0</td>\n",
       "      <td>0</td>\n",
       "      <td>0</td>\n",
       "      <td>sales</td>\n",
       "      <td>low</td>\n",
       "    </tr>\n",
       "    <tr>\n",
       "      <th>...</th>\n",
       "      <td>...</td>\n",
       "      <td>...</td>\n",
       "      <td>...</td>\n",
       "      <td>...</td>\n",
       "      <td>...</td>\n",
       "      <td>...</td>\n",
       "      <td>...</td>\n",
       "      <td>...</td>\n",
       "      <td>...</td>\n",
       "      <td>...</td>\n",
       "    </tr>\n",
       "    <tr>\n",
       "      <th>15782</th>\n",
       "      <td>14995</td>\n",
       "      <td>0.40</td>\n",
       "      <td>0.57</td>\n",
       "      <td>2</td>\n",
       "      <td>151.0</td>\n",
       "      <td>3.0</td>\n",
       "      <td>0</td>\n",
       "      <td>0</td>\n",
       "      <td>support</td>\n",
       "      <td>low</td>\n",
       "    </tr>\n",
       "    <tr>\n",
       "      <th>15783</th>\n",
       "      <td>14996</td>\n",
       "      <td>0.37</td>\n",
       "      <td>0.48</td>\n",
       "      <td>2</td>\n",
       "      <td>160.0</td>\n",
       "      <td>3.0</td>\n",
       "      <td>0</td>\n",
       "      <td>0</td>\n",
       "      <td>support</td>\n",
       "      <td>low</td>\n",
       "    </tr>\n",
       "    <tr>\n",
       "      <th>15784</th>\n",
       "      <td>14997</td>\n",
       "      <td>0.37</td>\n",
       "      <td>0.53</td>\n",
       "      <td>2</td>\n",
       "      <td>143.0</td>\n",
       "      <td>3.0</td>\n",
       "      <td>0</td>\n",
       "      <td>0</td>\n",
       "      <td>support</td>\n",
       "      <td>low</td>\n",
       "    </tr>\n",
       "    <tr>\n",
       "      <th>15785</th>\n",
       "      <td>14998</td>\n",
       "      <td>0.11</td>\n",
       "      <td>0.96</td>\n",
       "      <td>6</td>\n",
       "      <td>280.0</td>\n",
       "      <td>4.0</td>\n",
       "      <td>0</td>\n",
       "      <td>0</td>\n",
       "      <td>support</td>\n",
       "      <td>low</td>\n",
       "    </tr>\n",
       "    <tr>\n",
       "      <th>15786</th>\n",
       "      <td>14999</td>\n",
       "      <td>0.37</td>\n",
       "      <td>0.52</td>\n",
       "      <td>2</td>\n",
       "      <td>158.0</td>\n",
       "      <td>3.0</td>\n",
       "      <td>0</td>\n",
       "      <td>0</td>\n",
       "      <td>support</td>\n",
       "      <td>low</td>\n",
       "    </tr>\n",
       "  </tbody>\n",
       "</table>\n",
       "<p>14999 rows × 10 columns</p>\n",
       "</div>"
      ],
      "text/plain": [
       "       Emp ID  satisfaction_level  last_evaluation  number_project  \\\n",
       "0           1                0.38             0.53               2   \n",
       "1           2                0.80             0.86               5   \n",
       "2           3                0.11             0.88               7   \n",
       "3           4                0.72             0.87               5   \n",
       "4           5                0.37             0.52               2   \n",
       "...       ...                 ...              ...             ...   \n",
       "15782   14995                0.40             0.57               2   \n",
       "15783   14996                0.37             0.48               2   \n",
       "15784   14997                0.37             0.53               2   \n",
       "15785   14998                0.11             0.96               6   \n",
       "15786   14999                0.37             0.52               2   \n",
       "\n",
       "       average_montly_hours  time_spend_company  Work_accident  \\\n",
       "0                     157.0                 3.0              0   \n",
       "1                     262.0                 6.0              0   \n",
       "2                     272.0                 4.0              0   \n",
       "3                     223.0                 5.0              0   \n",
       "4                     159.0                 3.0              0   \n",
       "...                     ...                 ...            ...   \n",
       "15782                 151.0                 3.0              0   \n",
       "15783                 160.0                 3.0              0   \n",
       "15784                 143.0                 3.0              0   \n",
       "15785                 280.0                 4.0              0   \n",
       "15786                 158.0                 3.0              0   \n",
       "\n",
       "       promotion_last_5years     dept  salary  \n",
       "0                          0    sales     low  \n",
       "1                          0    sales  medium  \n",
       "2                          0    sales  medium  \n",
       "3                          0    sales     low  \n",
       "4                          0    sales     low  \n",
       "...                      ...      ...     ...  \n",
       "15782                      0  support     low  \n",
       "15783                      0  support     low  \n",
       "15784                      0  support     low  \n",
       "15785                      0  support     low  \n",
       "15786                      0  support     low  \n",
       "\n",
       "[14999 rows x 10 columns]"
      ]
     },
     "execution_count": 107,
     "metadata": {},
     "output_type": "execute_result"
    }
   ],
   "source": [
    "df"
   ]
  },
  {
   "cell_type": "markdown",
   "id": "1e0bb832",
   "metadata": {},
   "source": [
    "In this dataset, the outcome variable is likely to be whether an employee has left the company or not, which is not explicitly included in the given data. However, it can be inferred from the dataset that employee attrition is being studied and the outcome variable is whether an employee has left the company or not.\n",
    "\n",
    "The input variables in this dataset are:\n",
    "\n",
    "Emp ID: Employee identifier\n",
    "satisfaction_level: Satisfaction level of the employee (ranges from 0 to 1)\n",
    "last_evaluation: The last evaluation score of the employee (ranges from 0 to 1)\n",
    "number_project: Number of projects the employee has worked on\n",
    "average_montly_hours: Average monthly hours worked by the employee\n",
    "time_spend_company: Time spent in the company by the employee (in years)\n",
    "Work_accident: Whether the employee has had a work accident or not (0 = No, 1 = Yes)\n",
    "promotion_last_5years: Whether the employee was promoted in the last 5 years (0 = No, 1 = Yes)\n",
    "dept: Department in which the employee works\n",
    "salary: Salary level of the employee (low, medium, or high)"
   ]
  },
  {
   "cell_type": "markdown",
   "id": "e25dfc3a",
   "metadata": {},
   "source": [
    "# 2."
   ]
  },
  {
   "cell_type": "code",
   "execution_count": 108,
   "id": "2827c38f",
   "metadata": {},
   "outputs": [
    {
     "data": {
      "image/png": "[encoded data removed]",
      "text/plain": [
       "<Figure size 432x288 with 1 Axes>"
      ]
     },
     "metadata": {
      "needs_background": "light"
     },
     "output_type": "display_data"
    },
    {
     "data": {
      "image/png": "[encoded data removed]",
      "text/plain": [
       "<Figure size 432x288 with 1 Axes>"
      ]
     },
     "metadata": {
      "needs_background": "light"
     },
     "output_type": "display_data"
    },
    {
     "data": {
      "image/png": "[encoded data removed]",
      "text/plain": [
       "<Figure size 432x288 with 1 Axes>"
      ]
     },
     "metadata": {
      "needs_background": "light"
     },
     "output_type": "display_data"
    },
    {
     "data": {
      "image/png": "[encoded data removed]",
      "text/plain": [
       "<Figure size 432x288 with 1 Axes>"
      ]
     },
     "metadata": {
      "needs_background": "light"
     },
     "output_type": "display_data"
    },
    {
     "data": {
      "image/png": "[encoded data removed]",
      "text/plain": [
       "<Figure size 432x288 with 1 Axes>"
      ]
     },
     "metadata": {
      "needs_background": "light"
     },
     "output_type": "display_data"
    },
    {
     "data": {
      "image/png": "[encoded data removed]",
      "text/plain": [
       "<Figure size 432x288 with 1 Axes>"
      ]
     },
     "metadata": {
      "needs_background": "light"
     },
     "output_type": "display_data"
    },
    {
     "data": {
      "image/png": "[encoded data removed]",
      "text/plain": [
       "<Figure size 432x288 with 1 Axes>"
      ]
     },
     "metadata": {
      "needs_background": "light"
     },
     "output_type": "display_data"
    },
    {
     "data": {
      "image/png": "[encoded data removed]",
      "text/plain": [
       "<Figure size 432x288 with 1 Axes>"
      ]
     },
     "metadata": {
      "needs_background": "light"
     },
     "output_type": "display_data"
    }
   ],
   "source": [
    "#Using the Whisker boxplot to determine outliers in the dataset\n",
    "# Get numeric columns\n",
    "num = df.select_dtypes(include=['float64','int'])\n",
    "\n",
    "# Select only numeric columns\n",
    "df_num = pd.DataFrame(num)\n",
    "\n",
    "# Create boxplots \n",
    "for a in num:\n",
    "    \n",
    "    # Generate boxplot\n",
    "    df_numeric.boxplot(column=a, return_type='dict')\n",
    "    \n",
    "    # Set title\n",
    "    plt.title(a)\n",
    "    \n",
    "    # Show plot \n",
    "    plt.show()"
   ]
  },
  {
   "cell_type": "markdown",
   "id": "a6ccb4e7",
   "metadata": {},
   "source": [
    "A boxplot is a graphical representation of a dataset that displays the distribution of the data based on its quartiles. The box in the middle of the plot represents the interquartile range (IQR), which contains 50% of the data.<br>The line inside the box represents the median value, which splits the data into two halves. The whiskers extending from the box show the range of the data that is within 1.5 times the IQR, and any points outside of this range are considered outliers and are marked with a black dot.<br> Outliers are values that are significantly different from the rest of the data and may indicate errors or unusual circumstances that need further investigation. The boxplot is a useful tool for identifying the distribution and outliers in a dataset and can help in making informed decisions about the data"
   ]
  },
  {
   "cell_type": "markdown",
   "id": "2ea0dd7e",
   "metadata": {},
   "source": [
    "# 3.\n",
    "Categorical variables are variables that take on a limited and fixed number of possible values, such as labels, categories, or names.\n",
    "Per our dataset, the categorical variables are the dept and salary columns"
   ]
  },
  {
   "cell_type": "code",
   "execution_count": 109,
   "id": "b9e84a4f",
   "metadata": {},
   "outputs": [],
   "source": [
    "#Creating a dictionary out of the columns to be able to plot the graphs\n",
    "sf=dict(Counter(df['dept']))\n",
    "sa=dict(Counter(df['salary']))"
   ]
  },
  {
   "cell_type": "code",
   "execution_count": 110,
   "id": "4695ce43",
   "metadata": {},
   "outputs": [
    {
     "data": {
      "text/plain": [
       "{'sales': 4140,\n",
       " 'accounting': 767,\n",
       " 'hr': 739,\n",
       " 'technical': 2720,\n",
       " 'support': 2229,\n",
       " 'management': 630,\n",
       " 'IT': 1227,\n",
       " 'product_mng': 902,\n",
       " 'marketing': 858,\n",
       " 'RandD': 787}"
      ]
     },
     "execution_count": 110,
     "metadata": {},
     "output_type": "execute_result"
    }
   ],
   "source": [
    "sf"
   ]
  },
  {
   "cell_type": "code",
   "execution_count": 111,
   "id": "3671cab6",
   "metadata": {},
   "outputs": [
    {
     "data": {
      "image/png": "[encoded data removed]",
      "text/plain": [
       "<Figure size 432x288 with 1 Axes>"
      ]
     },
     "metadata": {
      "needs_background": "light"
     },
     "output_type": "display_data"
    }
   ],
   "source": [
    "#Plotting the Department column on a bar chart\n",
    "plt.bar(sf.keys(),sf.values())\n",
    "plt.xticks(rotation=90)\n",
    "plt.xlabel('Name of Department',color='g')\n",
    "plt.ylabel('Number of Employees',color='g')\n",
    "plt.title('Department Distribution',color='b')\n",
    "plt.show()"
   ]
  },
  {
   "cell_type": "markdown",
   "id": "d1cc5f20",
   "metadata": {},
   "source": [
    "A bar chart was created to visualize the distribution of employees across departments in the organization. The results indicate that the sales department has the largest number of employees, while the research and development (RandD) department has the smallest number of employees"
   ]
  },
  {
   "cell_type": "code",
   "execution_count": 112,
   "id": "144f206e",
   "metadata": {},
   "outputs": [
    {
     "data": {
      "text/plain": [
       "{'low': 7316, 'medium': 6446, 'high': 1237}"
      ]
     },
     "execution_count": 112,
     "metadata": {},
     "output_type": "execute_result"
    }
   ],
   "source": [
    "sa"
   ]
  },
  {
   "cell_type": "code",
   "execution_count": 113,
   "id": "439dfa36",
   "metadata": {},
   "outputs": [
    {
     "data": {
      "image/png": "[encoded data removed]",
      "text/plain": [
       "<Figure size 504x576 with 1 Axes>"
      ]
     },
     "metadata": {},
     "output_type": "display_data"
    }
   ],
   "source": [
    "#Ploting the Salary Distribution on piechart\n",
    "plt.figure(figsize=(7,8))\n",
    "\n",
    "plt.pie(sa.values(), labels=sa.keys(), autopct='%1.1f%%')\n",
    "plt.axis('equal')\n",
    "\n",
    "#title of the chart\n",
    "plt.title('Piechart showing the Salary distribution')\n",
    "\n",
    "plt.show()"
   ]
  },
  {
   "cell_type": "markdown",
   "id": "23d12025",
   "metadata": {},
   "source": [
    "A pie chart was generated to illustrate the distribution of income levels among the employees. The chart indicates that 48.8% of the employees receive a low salary, 43% receive a medium salary, and only 8.2% receive a high salary. This finding highlights that a large majority of the employees receive low salaries, which may be a contributing factor to certain issues or challenges within the organization."
   ]
  },
  {
   "cell_type": "markdown",
   "id": "456473dd",
   "metadata": {},
   "source": [
    "# 4."
   ]
  },
  {
   "cell_type": "code",
   "execution_count": 114,
   "id": "97437133",
   "metadata": {},
   "outputs": [
    {
     "name": "stdout",
     "output_type": "stream",
     "text": [
      "salary        high    low  medium\n",
      "dept                             \n",
      "IT            6.76  49.63   43.60\n",
      "RandD         6.48  46.25   47.27\n",
      "accounting    9.65  46.68   43.68\n",
      "hr            6.09  45.33   48.58\n",
      "management   35.71  28.57   35.71\n",
      "marketing     9.32  46.85   43.82\n",
      "product_mng   7.54  50.00   42.46\n",
      "sales         6.50  50.70   42.80\n",
      "support       6.33  51.41   42.26\n",
      "technical     7.39  50.44   42.17\n"
     ]
    },
    {
     "name": "stderr",
     "output_type": "stream",
     "text": [
      "C:\\Users\\USER\\AppData\\Local\\Temp/ipykernel_8624/630037159.py:7: SettingWithCopyWarning: \n",
      "A value is trying to be set on a copy of a slice from a DataFrame.\n",
      "Try using .loc[row_indexer,col_indexer] = value instead\n",
      "\n",
      "See the caveats in the documentation: https://pandas.pydata.org/pandas-docs/stable/user_guide/indexing.html#returning-a-view-versus-a-copy\n",
      "  df['salary']=df['salary'].replace({'high':2,'medium':1,'low':0})\n"
     ]
    },
    {
     "data": {
      "text/plain": [
       "Emp ID                   0.063996\n",
       "satisfaction_level       0.050022\n",
       "last_evaluation         -0.013002\n",
       "number_project          -0.001803\n",
       "average_montly_hours    -0.002242\n",
       "time_spend_company       0.048715\n",
       "Work_accident            0.009247\n",
       "promotion_last_5years    0.098119\n",
       "salary                   1.000000\n",
       "Name: salary, dtype: float64"
      ]
     },
     "execution_count": 114,
     "metadata": {},
     "output_type": "execute_result"
    }
   ],
   "source": [
    "#Determing the factors that leads to differences in level of Salary\n",
    "dept_salary = df.groupby(\"dept\")[\"salary\"].value_counts(normalize=True).unstack()*100\n",
    "dept_salary = dept_salary.round(2) # Round to 2 decimal places\n",
    "print(dept_salary)\n",
    "\n",
    "# Convert salary column to numeric\n",
    "df['salary']=df['salary'].replace({'high':2,'medium':1,'low':0})\n",
    "\n",
    "# Check correlations\n",
    "df.corr()['salary']"
   ]
  },
  {
   "cell_type": "markdown",
   "id": "b327b1f2",
   "metadata": {},
   "source": [
    "Based on the analysis above, it shows the percentage of employees in each department who have each salary level. From this, it is shown that some departments, such as management and IT, have a higher percentage of employees with a medium or high salary and also \n",
    "the number of promotions employees have received in the last five years and their level of job satisfaction appear to have a strong relationship with differences in income levels. These factors indicate that compensation increases associated with promotions and a positive work environment that improves employee morale may play an important role in determining employee salaries. Further analysis controlling for job role, responsibilities, and performance metrics would be recommended to isolate the effect of these individual factors.\n",
    "<br>\n",
    "So in conclusion the department and promotion last 5 years are the major factors leading to the differences in level of salaries"
   ]
  },
  {
   "cell_type": "markdown",
   "id": "7134bb15",
   "metadata": {},
   "source": [
    "# 5."
   ]
  },
  {
   "cell_type": "code",
   "execution_count": 115,
   "id": "378934ac",
   "metadata": {},
   "outputs": [
    {
     "data": {
      "image/png": "[encoded data removed]",
      "text/plain": [
       "<Figure size 432x288 with 2 Axes>"
      ]
     },
     "metadata": {
      "needs_background": "light"
     },
     "output_type": "display_data"
    }
   ],
   "source": [
    "#Determing the Relationship between variables using the heatmap diagram\n",
    "sns.heatmap(df.corr(),cmap='RdYlGn',annot=True,annot_kws={'fontsize':6})\n",
    "plt.show()"
   ]
  },
  {
   "cell_type": "markdown",
   "id": "ff8492cf",
   "metadata": {},
   "source": [
    "The correlation matrix provides a useful summary of the relationships between variables in the dataset. A positive correlation between two variables indicates that they tend to increase or decrease together, while a negative correlation indicates that they tend to move in opposite directions. The strength of the correlation is indicated by the intensity of the color in the heatmap.The red color shows a weak correlation between the variables and the green color shows a strong correlation between the variables"
   ]
  },
  {
   "cell_type": "markdown",
   "id": "8ab6f2f7",
   "metadata": {},
   "source": [
    "# 6."
   ]
  },
  {
   "cell_type": "code",
   "execution_count": 116,
   "id": "b360c795",
   "metadata": {},
   "outputs": [
    {
     "data": {
      "image/png": "[encoded data removed]",
      "text/plain": [
       "<Figure size 432x288 with 1 Axes>"
      ]
     },
     "metadata": {
      "needs_background": "light"
     },
     "output_type": "display_data"
    }
   ],
   "source": [
    "#A scatter plot showing satisfaction level and last evaluation\n",
    "plt.scatter(df[\"satisfaction_level\"], df[\"last_evaluation\"])\n",
    "plt.xlabel('Satisfaction_level')\n",
    "plt.ylabel('last_evaluation')\n",
    "plt.show()"
   ]
  },
  {
   "cell_type": "markdown",
   "id": "847bfa48",
   "metadata": {},
   "source": [
    "The scatter plot shows a weak correlation between employee satisfaction levels and their last evaluation scores, with some employees who are highly satisfied also receiving high evaluation scores. However, there are also many employees who have low satisfaction levels but high evaluation scores, as well as employees who have high satisfaction levels but low evaluation scores, suggesting that other factors may be at play."
   ]
  },
  {
   "cell_type": "code",
   "execution_count": 117,
   "id": "3082a7fe",
   "metadata": {},
   "outputs": [
    {
     "data": {
      "image/png": "[encoded data removed]",
      "text/plain": [
       "<Figure size 432x288 with 1 Axes>"
      ]
     },
     "metadata": {
      "needs_background": "light"
     },
     "output_type": "display_data"
    }
   ],
   "source": [
    "# create a histogram of the satisfaction levels\n",
    "plt.hist(df['satisfaction_level'], bins=20)\n",
    "plt.xlabel('Satisfaction Level')\n",
    "plt.ylabel('Count')\n",
    "plt.title('Distribution of Employee Satisfaction Levels')\n",
    "plt.show()"
   ]
  },
  {
   "cell_type": "markdown",
   "id": "80e469e7",
   "metadata": {},
   "source": [
    "The histogram shows the distribution of employee satisfaction levels in the dataset. The x-axis represents the range of satisfaction levels, divided into 20 bins (or bars). The y-axis represents the frequency or count of employees falling within each bin.\n",
    "\n",
    "From the histogram, we can see that the distribution of satisfaction levels is roughly bell-shaped, with the majority of employees falling in the middle range of satisfaction levels. This suggests that most employees are moderately satisfied with their jobs. However, there is also a smaller group of employees who are highly satisfied, as evidenced by the tall bar on the right side of the plot. Conversely, there are also some employees who are highly dissatisfied, as evidenced by the shorter bar on the left side of the plot."
   ]
  },
  {
   "cell_type": "code",
   "execution_count": 118,
   "id": "45f7d5eb",
   "metadata": {},
   "outputs": [
    {
     "data": {
      "image/png": "[encoded data removed]",
      "text/plain": [
       "<Figure size 432x288 with 1 Axes>"
      ]
     },
     "metadata": {
      "needs_background": "light"
     },
     "output_type": "display_data"
    }
   ],
   "source": [
    "#A scatter plot of promotion last 5 years and salary\n",
    "plt.scatter(df['promotion_last_5years'],  \n",
    "            df['salary'],  \n",
    "            color='red',\n",
    "            marker='*',\n",
    "            s=100)\n",
    "plt.show()"
   ]
  },
  {
   "cell_type": "markdown",
   "id": "f7dbdb51",
   "metadata": {},
   "source": [
    "The scatter plot shows the relationship between promotion in the last 5 years and salary for the employees in the dataset. Each point in the plot represents an employee, with their promotion status indicated on the x-axis and their salary indicated on the y-axis.\n",
    "\n",
    "The plot shows that most employees have not been promoted in the last 5 years and are in the low or medium salary range. There are a few employees who have been promoted in the last 5 years and are in the medium salary range, but very few employees have been promoted and are in the high salary range.<br>\n",
    "\n",
    "This suggests that there may be a correlation between promotion and salary, where employees who are promoted are more likely to receive higher salaries. However, it is difficult to draw definitive conclusions from this scatter plot alone, as there may be other factors affecting both promotion and salary that are not captured in the dataset. "
   ]
  },
  {
   "cell_type": "markdown",
   "id": "09b5b00a",
   "metadata": {},
   "source": [
    "# 7."
   ]
  },
  {
   "cell_type": "markdown",
   "id": "eb8e5fa0",
   "metadata": {},
   "source": [
    "From the data, we can see that the majority of employees have a low salary level (78%), and the average satisfaction level is 0.61. Additionally, employees who have had a work accident or a promotion in the last 5 years tend to have higher satisfaction levels. The \"number_project\" variable has a range of 2 to 7, with a mean of 3.8, indicating that most employees work on multiple projects. Finally, the \"time_spend_company\" variable ranges from 2 to 10, with a mean of 3.5, indicating that most employees have been with the company for a relatively short time."
   ]
  },
  {
   "cell_type": "markdown",
   "id": "550ed62a",
   "metadata": {},
   "source": [
    "# 8."
   ]
  },
  {
   "cell_type": "markdown",
   "id": "011a35d1",
   "metadata": {},
   "source": [
    "Based on our analysis of the data, we have identified several factors that may be related to employee performance and satisfaction, including salary level, work accident, promotion, number of projects, and length of employment. However, further analysis is required to determine the exact nature of these relationships and their impact on the organization. Overall, the data suggest that the company may benefit from focusing on improving employee satisfaction and retention by offering competitive salaries and opportunities for growth and development."
   ]
  }
 ],
 "metadata": {
  "kernelspec": {
   "display_name": "Python 3 (ipykernel)",
   "language": "python",
   "name": "python3"
  },
  "language_info": {
   "codemirror_mode": {
    "name": "ipython",
    "version": 3
   },
   "file_extension": ".py",
   "mimetype": "text/x-python",
   "name": "python",
   "nbconvert_exporter": "python",
   "pygments_lexer": "ipython3",
   "version": "3.9.7"
  }
 },
 "nbformat": 4,
 "nbformat_minor": 5
}
